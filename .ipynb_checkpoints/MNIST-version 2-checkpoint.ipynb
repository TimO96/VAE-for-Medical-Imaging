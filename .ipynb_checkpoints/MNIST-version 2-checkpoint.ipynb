{
 "cells": [
  {
   "cell_type": "code",
   "execution_count": 1,
   "metadata": {
    "nbgrader": {
     "grade": false,
     "grade_id": "cell-7c995be0fda080c0",
     "locked": true,
     "schema_version": 1,
     "solution": false
    }
   },
   "outputs": [
    {
     "name": "stdout",
     "output_type": "stream",
     "text": [
      "Populating the interactive namespace from numpy and matplotlib\n"
     ]
    }
   ],
   "source": [
    "# Imports\n",
    "\n",
    "%pylab inline\n",
    "\n",
    "import torch\n",
    "from torchvision import datasets, transforms\n",
    "from torch import nn\n",
    "from torch.nn import functional as F\n",
    "from torch.autograd import Variable\n",
    "from torchvision import datasets, transforms\n",
    "from torch import nn, optim\n",
    "from torch.distributions import Normal, Laplace, Independent, Bernoulli, Gamma, Uniform, Beta\n",
    "from torch.distributions.kl import kl_divergence"
   ]
  },
  {
   "cell_type": "code",
   "execution_count": 2,
   "metadata": {
    "scrolled": true
   },
   "outputs": [],
   "source": [
    "# Load the MNIST training and test sets\n",
    "\n",
    "def load_data(batch_size):\n",
    "    train_data = datasets.MNIST('../data', train=True, download=True,\n",
    "                       transform=transforms.ToTensor())\n",
    "    train_loader = torch.utils.data.DataLoader(train_data,\n",
    "                                               batch_size=batch_size, shuffle=True, **{})\n",
    "\n",
    "    test_data = datasets.MNIST('../data', train=False,\n",
    "                       transform=transforms.ToTensor())\n",
    "    test_loader = torch.utils.data.DataLoader(train_data,\n",
    "                                           batch_size=batch_size, shuffle=True, **{})\n",
    "    return train_data, train_loader, test_data, test_loader"
   ]
  },
  {
   "cell_type": "code",
   "execution_count": 3,
   "metadata": {
    "nbgrader": {
     "grade": false,
     "grade_id": "cell-d2d18781683f1302",
     "locked": false,
     "schema_version": 1,
     "solution": true
    }
   },
   "outputs": [],
   "source": [
    "# Distribution namespaces\n",
    "\n",
    "def normal_dist(mu, var):\n",
    "    return Normal(loc=mu, scale=var)\n",
    "\n",
    "def laplace_dist(mu, var):\n",
    "    return Laplace(loc=mu, scale=var)\n",
    "\n",
    "def gamma_dist(mu, var):\n",
    "    return Gamma(concentration=mu, rate=var)\n",
    "\n",
    "def beta_dist(mu, var):\n",
    "    return Beta(concentration1=mu, concentration0=var)\n",
    "\n",
    "def bernoulli_loss(x_hat):\n",
    "    return Bernoulli(x_hat)\n",
    "\n",
    "def laplace_loss(x_hat, scale=0.01):\n",
    "    return Laplace(loc=x_hat, scale=scale)"
   ]
  },
  {
   "cell_type": "code",
   "execution_count": 62,
   "metadata": {
    "nbgrader": {
     "grade": false,
     "grade_id": "cell-e7d9dafee18f28a1",
     "locked": true,
     "schema_version": 1,
     "solution": false
    }
   },
   "outputs": [],
   "source": [
    "class Flatten(nn.Module):\n",
    "    def forward(self, input):\n",
    "        return input.view(input.size(0), -1)\n",
    "\n",
    "\n",
    "class UnFlatten(nn.Module):\n",
    "    def forward(self, input, size=1024):\n",
    "        return input.view(input.size(0), size, 1, 1)\n",
    "\n",
    "\n",
    "class VAE(nn.Module):\n",
    "    def __init__(self, conv_encoder, linear_encoder, linear_decoder, conv_decoder, loss_dist, p_x_dist, q_z_dist):\n",
    "        super(VAE, self).__init__()\n",
    "        self.conv_encoder = nn.Sequential(*conv_encoder)\n",
    "        self.linear_encoder = nn.Sequential(*linear_encoder)\n",
    "        self.linear_decoder = nn.Sequential(*linear_decoder)\n",
    "        self.conv_decoder = nn.Sequential(*conv_decoder)\n",
    "        self.p_x_dist = p_x_dist\n",
    "        self.q_z_dist = q_z_dist\n",
    "        self.loss_dist = loss_dist\n",
    "\n",
    "    def encode(self, x):\n",
    "        # First go through the convolutional layers\n",
    "        output = self.conv_encoder(x)\n",
    "        # Flatten the output (TODO: make 4*4*50 a variable that comes from the convolutional layers)\n",
    "        output = output.view(-1, 4*4*50)\n",
    "        # Go through the linear layers\n",
    "        output = self.linear_encoder(output)\n",
    "        output_len = len(output[0]) // 2\n",
    "        return output[:,:output_len], output[:,output_len:]\n",
    "\n",
    "    def reparameterize(self, q_z):\n",
    "        return q_z.rsample()\n",
    "\n",
    "    def decode(self, z):\n",
    "        z = self.linear_decoder(z).view(z.size(0), 50, 4, 4)\n",
    "        return self.conv_decoder(z)\n",
    "\n",
    "    def forward(self, x, epoch):\n",
    "        mu, logvar = self.encode(x)\n",
    "        \n",
    "        q_z = self.q_z_dist(mu, logvar)\n",
    "        q_z = Independent(q_z, 1)\n",
    "        \n",
    "        z = self.reparameterize(q_z)\n",
    "        x_hat = self.decode(z).view(-1, x_dim)\n",
    "        \n",
    "        p_x = self.loss_dist(x_hat)\n",
    "        loss = self.loss_function(x_hat, x, p_x, q_z, z, epoch)\n",
    "        \n",
    "        return x_hat, loss, z\n",
    "    \n",
    "    def loss_function(self, x_hat, x, p_x, q_z, z, epoch):\n",
    "        x = x.view(-1, x_dim)\n",
    "        BCE = torch.sum(-p_x.log_prob(x))\n",
    "        KLD = kl_divergence(q_z.base_dist, self.p_x_dist.base_dist)\n",
    "        KLD = torch.sum(KLD.sum(len(p_x_dist.event_shape)-1))\n",
    "        \n",
    "        if epoch<one_third_epochs:\n",
    "            beta = epoch*max_beta/one_third_epochs\n",
    "\n",
    "        else:\n",
    "            beta = max_beta\n",
    "        \n",
    "        return BCE + beta*KLD"
   ]
  },
  {
   "cell_type": "code",
   "execution_count": 63,
   "metadata": {
    "nbgrader": {
     "grade": false,
     "grade_id": "cell-be75f61b09f3b9b6",
     "locked": true,
     "schema_version": 1,
     "solution": false
    }
   },
   "outputs": [],
   "source": [
    "def train(epoch):\n",
    "    model.train()\n",
    "    train_loss = 0\n",
    "    for batch_idx, (data, _) in enumerate(train_loader):\n",
    "        data = Variable(data)\n",
    "        optimizer.zero_grad()\n",
    "        x_hat, loss, _ = model(data, epoch)\n",
    "        loss.backward()\n",
    "        train_loss += loss.data\n",
    "        optimizer.step()\n",
    "        if batch_idx % 100 == 0:\n",
    "            print('Train Epoch: {} [{}/{} ({:.0f}%)]\\tLoss: {:.6f}'.format(\n",
    "                epoch, batch_idx * len(data), len(train_loader.dataset),\n",
    "                100. * batch_idx / len(train_loader),\n",
    "                loss.data / len(data)))\n",
    "\n",
    "    print('====> Epoch: {} Average loss: {:.4f}'.format(\n",
    "          epoch, train_loss / len(train_loader.dataset)))\n",
    "\n",
    "\n",
    "def test(epoch, batch_size):\n",
    "    model.eval()\n",
    "    test_loss = 0\n",
    "    with torch.no_grad():\n",
    "        for i, (data, _) in enumerate(test_loader):\n",
    "            data = data\n",
    "            x_hat, loss, _ = model(data, epoch)\n",
    "            test_loss += loss.item()\n",
    "            if i == 0:\n",
    "                n = min(data.size(0), 8)\n",
    "                comparison = torch.cat([data[:n],\n",
    "                                      x_hat.view(batch_size, 1, 28, 28)[:n]])\n",
    "\n",
    "    test_loss /= len(test_loader.dataset)\n",
    "    print('====> Test set loss: {:.4f}'.format(test_loss))"
   ]
  },
  {
   "cell_type": "code",
   "execution_count": 64,
   "metadata": {
    "nbgrader": {
     "grade": false,
     "grade_id": "cell-d4d4408d397f6967",
     "locked": false,
     "schema_version": 1,
     "solution": true
    }
   },
   "outputs": [
    {
     "name": "stderr",
     "output_type": "stream",
     "text": [
      "/home/tim/anaconda3/lib/python3.6/site-packages/torch/nn/modules/upsampling.py:129: UserWarning: nn.Upsample is deprecated. Use nn.functional.interpolate instead.\n",
      "  warnings.warn(\"nn.{} is deprecated. Use nn.functional.interpolate instead.\".format(self.name))\n"
     ]
    },
    {
     "name": "stdout",
     "output_type": "stream",
     "text": [
      "Train Epoch: 1 [0/60000 (0%)]\tLoss: 1454.990845\n",
      "Train Epoch: 1 [6400/60000 (11%)]\tLoss: 232.732010\n",
      "Train Epoch: 1 [12800/60000 (21%)]\tLoss: 220.371017\n",
      "Train Epoch: 1 [19200/60000 (32%)]\tLoss: 231.816498\n",
      "Train Epoch: 1 [25600/60000 (43%)]\tLoss: 235.262756\n",
      "Train Epoch: 1 [32000/60000 (53%)]\tLoss: 210.084488\n",
      "Train Epoch: 1 [38400/60000 (64%)]\tLoss: 202.981400\n",
      "Train Epoch: 1 [44800/60000 (75%)]\tLoss: 214.430771\n",
      "Train Epoch: 1 [51200/60000 (85%)]\tLoss: 210.500229\n",
      "Train Epoch: 1 [57600/60000 (96%)]\tLoss: 236.869370\n",
      "====> Epoch: 1 Average loss: 227.8605\n",
      "====> Test set loss: 214.9761\n",
      "Train Epoch: 2 [0/60000 (0%)]\tLoss: 212.558609\n",
      "Train Epoch: 2 [6400/60000 (11%)]\tLoss: 218.163696\n",
      "Train Epoch: 2 [12800/60000 (21%)]\tLoss: 210.209351\n",
      "Train Epoch: 2 [19200/60000 (32%)]\tLoss: 219.178848\n",
      "Train Epoch: 2 [25600/60000 (43%)]\tLoss: 216.219818\n",
      "Train Epoch: 2 [32000/60000 (53%)]\tLoss: 216.249664\n",
      "Train Epoch: 2 [38400/60000 (64%)]\tLoss: 223.052017\n",
      "Train Epoch: 2 [44800/60000 (75%)]\tLoss: 213.227142\n",
      "Train Epoch: 2 [51200/60000 (85%)]\tLoss: 200.945770\n",
      "Train Epoch: 2 [57600/60000 (96%)]\tLoss: 202.051056\n",
      "====> Epoch: 2 Average loss: 214.3703\n",
      "====> Test set loss: 209.0150\n",
      "Train Epoch: 3 [0/60000 (0%)]\tLoss: 209.337372\n",
      "Train Epoch: 3 [6400/60000 (11%)]\tLoss: 216.899017\n",
      "Train Epoch: 3 [12800/60000 (21%)]\tLoss: 195.687958\n",
      "Train Epoch: 3 [19200/60000 (32%)]\tLoss: 212.622742\n",
      "Train Epoch: 3 [25600/60000 (43%)]\tLoss: 210.771011\n",
      "Train Epoch: 3 [32000/60000 (53%)]\tLoss: 202.799728\n",
      "Train Epoch: 3 [38400/60000 (64%)]\tLoss: 211.696060\n",
      "Train Epoch: 3 [44800/60000 (75%)]\tLoss: 222.128937\n",
      "Train Epoch: 3 [51200/60000 (85%)]\tLoss: 207.561554\n",
      "Train Epoch: 3 [57600/60000 (96%)]\tLoss: 221.494675\n",
      "====> Epoch: 3 Average loss: 210.7983\n",
      "====> Test set loss: 205.9426\n",
      "Train Epoch: 4 [0/60000 (0%)]\tLoss: 205.509964\n",
      "Train Epoch: 4 [6400/60000 (11%)]\tLoss: 205.806580\n",
      "Train Epoch: 4 [12800/60000 (21%)]\tLoss: 195.500504\n",
      "Train Epoch: 4 [19200/60000 (32%)]\tLoss: 212.756470\n",
      "Train Epoch: 4 [25600/60000 (43%)]\tLoss: 200.518097\n",
      "Train Epoch: 4 [32000/60000 (53%)]\tLoss: 196.157104\n",
      "Train Epoch: 4 [38400/60000 (64%)]\tLoss: 206.739975\n",
      "Train Epoch: 4 [44800/60000 (75%)]\tLoss: 209.543518\n",
      "Train Epoch: 4 [51200/60000 (85%)]\tLoss: 199.014801\n",
      "Train Epoch: 4 [57600/60000 (96%)]\tLoss: 206.539917\n",
      "====> Epoch: 4 Average loss: 204.0519\n",
      "====> Test set loss: 200.5704\n",
      "Train Epoch: 5 [0/60000 (0%)]\tLoss: 202.556717\n",
      "Train Epoch: 5 [6400/60000 (11%)]\tLoss: 188.116699\n",
      "Train Epoch: 5 [12800/60000 (21%)]\tLoss: 194.585220\n",
      "Train Epoch: 5 [19200/60000 (32%)]\tLoss: 192.144058\n",
      "Train Epoch: 5 [25600/60000 (43%)]\tLoss: 189.131851\n",
      "Train Epoch: 5 [32000/60000 (53%)]\tLoss: 197.770554\n",
      "Train Epoch: 5 [38400/60000 (64%)]\tLoss: 203.437927\n",
      "Train Epoch: 5 [44800/60000 (75%)]\tLoss: 185.735291\n",
      "Train Epoch: 5 [51200/60000 (85%)]\tLoss: 204.113312\n",
      "Train Epoch: 5 [57600/60000 (96%)]\tLoss: 190.364044\n",
      "====> Epoch: 5 Average loss: 196.6791\n",
      "====> Test set loss: 193.0371\n",
      "Train Epoch: 6 [0/60000 (0%)]\tLoss: 193.331009\n",
      "Train Epoch: 6 [6400/60000 (11%)]\tLoss: 203.745560\n",
      "Train Epoch: 6 [12800/60000 (21%)]\tLoss: 191.925659\n",
      "Train Epoch: 6 [19200/60000 (32%)]\tLoss: 201.937393\n",
      "Train Epoch: 6 [25600/60000 (43%)]\tLoss: 198.883728\n",
      "Train Epoch: 6 [32000/60000 (53%)]\tLoss: 180.614960\n",
      "Train Epoch: 6 [38400/60000 (64%)]\tLoss: 197.101730\n",
      "Train Epoch: 6 [44800/60000 (75%)]\tLoss: 192.596130\n",
      "Train Epoch: 6 [51200/60000 (85%)]\tLoss: 185.258926\n",
      "Train Epoch: 6 [57600/60000 (96%)]\tLoss: 178.583755\n",
      "====> Epoch: 6 Average loss: 190.1102\n",
      "====> Test set loss: 189.1876\n",
      "Train Epoch: 7 [0/60000 (0%)]\tLoss: 180.898926\n",
      "Train Epoch: 7 [6400/60000 (11%)]\tLoss: 178.726547\n",
      "Train Epoch: 7 [12800/60000 (21%)]\tLoss: 181.645599\n",
      "Train Epoch: 7 [19200/60000 (32%)]\tLoss: 179.379471\n",
      "Train Epoch: 7 [25600/60000 (43%)]\tLoss: 175.898956\n",
      "Train Epoch: 7 [32000/60000 (53%)]\tLoss: 186.819687\n",
      "Train Epoch: 7 [38400/60000 (64%)]\tLoss: 182.728577\n",
      "Train Epoch: 7 [44800/60000 (75%)]\tLoss: 183.401276\n",
      "Train Epoch: 7 [51200/60000 (85%)]\tLoss: 190.657715\n",
      "Train Epoch: 7 [57600/60000 (96%)]\tLoss: 173.062119\n",
      "====> Epoch: 7 Average loss: 181.2802\n",
      "====> Test set loss: 177.3112\n",
      "Train Epoch: 8 [0/60000 (0%)]\tLoss: 167.821381\n",
      "Train Epoch: 8 [6400/60000 (11%)]\tLoss: 186.638489\n",
      "Train Epoch: 8 [12800/60000 (21%)]\tLoss: 186.017365\n",
      "Train Epoch: 8 [19200/60000 (32%)]\tLoss: 180.519501\n",
      "Train Epoch: 8 [25600/60000 (43%)]\tLoss: 180.008499\n",
      "Train Epoch: 8 [32000/60000 (53%)]\tLoss: 168.802887\n",
      "Train Epoch: 8 [38400/60000 (64%)]\tLoss: 177.001923\n",
      "Train Epoch: 8 [44800/60000 (75%)]\tLoss: 177.158615\n",
      "Train Epoch: 8 [51200/60000 (85%)]\tLoss: 171.735718\n",
      "Train Epoch: 8 [57600/60000 (96%)]\tLoss: 172.024704\n",
      "====> Epoch: 8 Average loss: 181.2698\n",
      "====> Test set loss: 177.5327\n",
      "Train Epoch: 9 [0/60000 (0%)]\tLoss: 177.642532\n",
      "Train Epoch: 9 [6400/60000 (11%)]\tLoss: 176.364136\n",
      "Train Epoch: 9 [12800/60000 (21%)]\tLoss: 168.621338\n",
      "Train Epoch: 9 [19200/60000 (32%)]\tLoss: 171.220825\n",
      "Train Epoch: 9 [25600/60000 (43%)]\tLoss: 169.513214\n",
      "Train Epoch: 9 [32000/60000 (53%)]\tLoss: 184.656845\n",
      "Train Epoch: 9 [38400/60000 (64%)]\tLoss: 170.140747\n",
      "Train Epoch: 9 [44800/60000 (75%)]\tLoss: 171.318390\n",
      "Train Epoch: 9 [51200/60000 (85%)]\tLoss: 175.004974\n",
      "Train Epoch: 9 [57600/60000 (96%)]\tLoss: 230.591461\n",
      "====> Epoch: 9 Average loss: 175.4903\n",
      "====> Test set loss: 184.2133\n",
      "Train Epoch: 10 [0/60000 (0%)]\tLoss: 188.403381\n",
      "Train Epoch: 10 [6400/60000 (11%)]\tLoss: 181.020416\n",
      "Train Epoch: 10 [12800/60000 (21%)]\tLoss: 184.488693\n",
      "Train Epoch: 10 [19200/60000 (32%)]\tLoss: 163.313873\n",
      "Train Epoch: 10 [25600/60000 (43%)]\tLoss: 167.422241\n",
      "Train Epoch: 10 [32000/60000 (53%)]\tLoss: 178.089249\n",
      "Train Epoch: 10 [38400/60000 (64%)]\tLoss: 211.432388\n",
      "Train Epoch: 10 [44800/60000 (75%)]\tLoss: 179.831406\n",
      "Train Epoch: 10 [51200/60000 (85%)]\tLoss: 173.535950\n",
      "Train Epoch: 10 [57600/60000 (96%)]\tLoss: 198.698120\n",
      "====> Epoch: 10 Average loss: 181.0948\n",
      "====> Test set loss: 183.4784\n"
     ]
    }
   ],
   "source": [
    "x_dim = 784\n",
    "z_dim = 20\n",
    "\n",
    "lr = 1e-3 # Learning rate\n",
    "batch_size = 64\n",
    "epochs = 10\n",
    "max_beta = 3\n",
    "one_third_epochs = round(epochs/3)\n",
    "\n",
    "\n",
    "# Prior distribution\n",
    "tensor = torch.ones(1)\n",
    "p_x_dist = Beta(tensor.new_full((1, 20), 0.5), tensor.new_full((1, 20), 0.5))\n",
    "p_x_dist = Independent(p_x_dist, 1)\n",
    "\n",
    "# Target distribution\n",
    "q_z_dist = beta_dist\n",
    "\n",
    "# Loss distribution\n",
    "loss_dist = bernoulli_loss\n",
    "\n",
    "conv_encoder_layers = [\n",
    "    nn.Conv2d(1, 20, 5, 1),\n",
    "    nn.ReLU(True),\n",
    "    nn.MaxPool2d(2, 2),\n",
    "    nn.Conv2d(20, 50, 5, 1),\n",
    "    nn.ReLU(True),\n",
    "    nn.MaxPool2d(2, 2)\n",
    "    ]\n",
    "\n",
    "linear_encoder_layers = [\n",
    "    nn.Linear(50*4*4, 392),\n",
    "    nn.ReLU(True),\n",
    "    nn.Linear(392, 196),\n",
    "    nn.ReLU(True),\n",
    "    nn.Linear(196, 49),\n",
    "    nn.ReLU(True),\n",
    "    nn.Linear(49, z_dim*2),\n",
    "    nn.Softplus()\n",
    "    ]\n",
    "\n",
    "linear_decoder_layers = [\n",
    "    nn.Linear(z_dim, 49),\n",
    "    nn.ReLU(True),\n",
    "    nn.Linear(49, 196),\n",
    "    nn.ReLU(True),\n",
    "    nn.Linear(196, 392),\n",
    "    nn.ReLU(True),\n",
    "    nn.Linear(392, 50*4*4),\n",
    "    nn.Sigmoid()\n",
    "    ]\n",
    "\n",
    "conv_decoder_layers = [\n",
    "    nn.ConvTranspose2d(50, 20, 5, 1),\n",
    "    nn.ReLU(True),\n",
    "    nn.Upsample(scale_factor=3),\n",
    "    nn.ConvTranspose2d(20, 1, 5, 1),\n",
    "    nn.ReLU(True)\n",
    "    ]\n",
    "\n",
    "# Load the MNIST data\n",
    "train_data, train_loader, test_data, test_loader = load_data(batch_size)\n",
    "\n",
    "# Create the model\n",
    "model = VAE(conv_encoder=conv_encoder_layers, linear_encoder=linear_encoder_layers,\n",
    "            linear_decoder=linear_decoder_layers, conv_decoder=conv_decoder_layers, p_x_dist=p_x_dist, q_z_dist=q_z_dist, loss_dist=loss_dist)\n",
    "\n",
    "optimizer = optim.Adam(model.parameters(), lr=lr)\n",
    "\n",
    "if __name__ == \"__main__\":\n",
    "    for epoch in range(1, epochs + 1):\n",
    "        train(epoch)\n",
    "        test(epoch, batch_size)\n",
    "        # collection_image(epoch)        "
   ]
  },
  {
   "cell_type": "code",
   "execution_count": 65,
   "metadata": {
    "nbgrader": {
     "grade": false,
     "grade_id": "cell-df03d717307a6863",
     "locked": true,
     "schema_version": 1,
     "solution": false
    }
   },
   "outputs": [
    {
     "name": "stderr",
     "output_type": "stream",
     "text": [
      "/home/tim/anaconda3/lib/python3.6/site-packages/torch/nn/modules/upsampling.py:129: UserWarning: nn.Upsample is deprecated. Use nn.functional.interpolate instead.\n",
      "  warnings.warn(\"nn.{} is deprecated. Use nn.functional.interpolate instead.\".format(self.name))\n"
     ]
    },
    {
     "data": {
      "image/png": "[encoded data removed]",
      "text/plain": [
       "<Figure size 432x288 with 1 Axes>"
      ]
     },
     "metadata": {},
     "output_type": "display_data"
    },
    {
     "data": {
      "image/png": "[encoded data removed]",
      "text/plain": [
       "<Figure size 432x288 with 1 Axes>"
      ]
     },
     "metadata": {},
     "output_type": "display_data"
    },
    {
     "data": {
      "image/png": "[encoded data removed]",
      "text/plain": [
       "<Figure size 432x288 with 1 Axes>"
      ]
     },
     "metadata": {},
     "output_type": "display_data"
    },
    {
     "data": {
      "image/png": "[encoded data removed]",
      "text/plain": [
       "<Figure size 432x288 with 1 Axes>"
      ]
     },
     "metadata": {},
     "output_type": "display_data"
    },
    {
     "data": {
      "image/png": "[encoded data removed]",
      "text/plain": [
       "<Figure size 432x288 with 1 Axes>"
      ]
     },
     "metadata": {},
     "output_type": "display_data"
    },
    {
     "data": {
      "image/png": "[encoded data removed]",
      "text/plain": [
       "<Figure size 432x288 with 1 Axes>"
      ]
     },
     "metadata": {},
     "output_type": "display_data"
    },
    {
     "data": {
      "image/png": "[encoded data removed]",
      "text/plain": [
       "<Figure size 432x288 with 1 Axes>"
      ]
     },
     "metadata": {},
     "output_type": "display_data"
    },
    {
     "data": {
      "image/png": "[encoded data removed]",
      "text/plain": [
       "<Figure size 432x288 with 1 Axes>"
      ]
     },
     "metadata": {},
     "output_type": "display_data"
    },
    {
     "data": {
      "image/png": "[encoded data removed]",
      "text/plain": [
       "<Figure size 432x288 with 1 Axes>"
      ]
     },
     "metadata": {},
     "output_type": "display_data"
    },
    {
     "data": {
      "image/png": "[encoded data removed]",
      "text/plain": [
       "<Figure size 432x288 with 1 Axes>"
      ]
     },
     "metadata": {},
     "output_type": "display_data"
    },
    {
     "data": {
      "image/png": "[encoded data removed]",
      "text/plain": [
       "<Figure size 432x288 with 1 Axes>"
      ]
     },
     "metadata": {},
     "output_type": "display_data"
    }
   ],
   "source": [
    "### Let's check if the reconstructions make sense\n",
    "# Set model to test mode\n",
    "model.eval()\n",
    "    \n",
    "# Reconstructed\n",
    "train_data_plot = datasets.MNIST('../data', train=True, download=True,\n",
    "                   transform=transforms.ToTensor())\n",
    "\n",
    "train_loader_plot = torch.utils.data.DataLoader(train_data_plot,\n",
    "                                           batch_size=1, shuffle=False, **{})\n",
    "\n",
    "for batch_idx, (data, _) in enumerate(train_loader_plot):\n",
    "    x_hat, mu, _ = model(data, 1)\n",
    "    plt.imshow(x_hat.view(1,28,28).squeeze().data.numpy(), cmap='gray')\n",
    "    plt.title('%i' % train_data.train_labels[batch_idx])\n",
    "    plt.show()\n",
    "    if batch_idx == 10:\n",
    "        break\n"
   ]
  },
  {
   "cell_type": "code",
   "execution_count": 61,
   "metadata": {},
   "outputs": [
    {
     "ename": "RuntimeError",
     "evalue": "size mismatch, m1: [625 x 2], m2: [20 x 49] at /opt/conda/conda-bld/pytorch_1544174967633/work/aten/src/TH/generic/THTensorMath.cpp:940",
     "output_type": "error",
     "traceback": [
      "\u001b[0;31m---------------------------------------------------------------------------\u001b[0m",
      "\u001b[0;31mRuntimeError\u001b[0m                              Traceback (most recent call last)",
      "\u001b[0;32m<ipython-input-61-8ea192d45883>\u001b[0m in \u001b[0;36m<module>\u001b[0;34m()\u001b[0m\n\u001b[1;32m     10\u001b[0m         \u001b[0mcounter\u001b[0m \u001b[0;34m+=\u001b[0m \u001b[0;36m1\u001b[0m\u001b[0;34m\u001b[0m\u001b[0m\n\u001b[1;32m     11\u001b[0m \u001b[0;34m\u001b[0m\u001b[0m\n\u001b[0;32m---> 12\u001b[0;31m \u001b[0mimages\u001b[0m \u001b[0;34m=\u001b[0m \u001b[0mmodel\u001b[0m\u001b[0;34m.\u001b[0m\u001b[0mdecode\u001b[0m\u001b[0;34m(\u001b[0m\u001b[0mtorch\u001b[0m\u001b[0;34m.\u001b[0m\u001b[0mtensor\u001b[0m\u001b[0;34m(\u001b[0m\u001b[0msample\u001b[0m\u001b[0;34m,\u001b[0m \u001b[0mdtype\u001b[0m\u001b[0;34m=\u001b[0m\u001b[0mtorch\u001b[0m\u001b[0;34m.\u001b[0m\u001b[0mfloat\u001b[0m\u001b[0;34m)\u001b[0m\u001b[0;34m)\u001b[0m\u001b[0;34m.\u001b[0m\u001b[0mdetach\u001b[0m\u001b[0;34m(\u001b[0m\u001b[0;34m)\u001b[0m\u001b[0;34m.\u001b[0m\u001b[0mnumpy\u001b[0m\u001b[0;34m(\u001b[0m\u001b[0;34m)\u001b[0m\u001b[0;34m\u001b[0m\u001b[0m\n\u001b[0m\u001b[1;32m     13\u001b[0m \u001b[0mimage\u001b[0m \u001b[0;34m=\u001b[0m \u001b[0mnp\u001b[0m\u001b[0;34m.\u001b[0m\u001b[0mzeros\u001b[0m\u001b[0;34m(\u001b[0m\u001b[0;34m[\u001b[0m\u001b[0mlen\u001b[0m\u001b[0;34m(\u001b[0m\u001b[0mxv\u001b[0m\u001b[0;34m)\u001b[0m\u001b[0;34m*\u001b[0m\u001b[0;36m28\u001b[0m\u001b[0;34m,\u001b[0m \u001b[0mlen\u001b[0m\u001b[0;34m(\u001b[0m\u001b[0myv\u001b[0m\u001b[0;34m)\u001b[0m\u001b[0;34m*\u001b[0m\u001b[0;36m28\u001b[0m\u001b[0;34m]\u001b[0m\u001b[0;34m)\u001b[0m\u001b[0;34m\u001b[0m\u001b[0m\n\u001b[1;32m     14\u001b[0m \u001b[0mcounter\u001b[0m \u001b[0;34m=\u001b[0m \u001b[0;36m0\u001b[0m\u001b[0;34m\u001b[0m\u001b[0m\n",
      "\u001b[0;32m<ipython-input-55-031e4655d5f6>\u001b[0m in \u001b[0;36mdecode\u001b[0;34m(self, z)\u001b[0m\n\u001b[1;32m     34\u001b[0m \u001b[0;34m\u001b[0m\u001b[0m\n\u001b[1;32m     35\u001b[0m     \u001b[0;32mdef\u001b[0m \u001b[0mdecode\u001b[0m\u001b[0;34m(\u001b[0m\u001b[0mself\u001b[0m\u001b[0;34m,\u001b[0m \u001b[0mz\u001b[0m\u001b[0;34m)\u001b[0m\u001b[0;34m:\u001b[0m\u001b[0;34m\u001b[0m\u001b[0m\n\u001b[0;32m---> 36\u001b[0;31m         \u001b[0mz\u001b[0m \u001b[0;34m=\u001b[0m \u001b[0mself\u001b[0m\u001b[0;34m.\u001b[0m\u001b[0mlinear_decoder\u001b[0m\u001b[0;34m(\u001b[0m\u001b[0mz\u001b[0m\u001b[0;34m)\u001b[0m\u001b[0;34m.\u001b[0m\u001b[0mview\u001b[0m\u001b[0;34m(\u001b[0m\u001b[0mz\u001b[0m\u001b[0;34m.\u001b[0m\u001b[0msize\u001b[0m\u001b[0;34m(\u001b[0m\u001b[0;36m0\u001b[0m\u001b[0;34m)\u001b[0m\u001b[0;34m,\u001b[0m \u001b[0;36m50\u001b[0m\u001b[0;34m,\u001b[0m \u001b[0;36m4\u001b[0m\u001b[0;34m,\u001b[0m \u001b[0;36m4\u001b[0m\u001b[0;34m)\u001b[0m\u001b[0;34m\u001b[0m\u001b[0m\n\u001b[0m\u001b[1;32m     37\u001b[0m         \u001b[0;32mreturn\u001b[0m \u001b[0mself\u001b[0m\u001b[0;34m.\u001b[0m\u001b[0mconv_decoder\u001b[0m\u001b[0;34m(\u001b[0m\u001b[0mz\u001b[0m\u001b[0;34m)\u001b[0m\u001b[0;34m\u001b[0m\u001b[0m\n\u001b[1;32m     38\u001b[0m \u001b[0;34m\u001b[0m\u001b[0m\n",
      "\u001b[0;32m~/anaconda3/lib/python3.6/site-packages/torch/nn/modules/module.py\u001b[0m in \u001b[0;36m__call__\u001b[0;34m(self, *input, **kwargs)\u001b[0m\n\u001b[1;32m    487\u001b[0m             \u001b[0mresult\u001b[0m \u001b[0;34m=\u001b[0m \u001b[0mself\u001b[0m\u001b[0;34m.\u001b[0m\u001b[0m_slow_forward\u001b[0m\u001b[0;34m(\u001b[0m\u001b[0;34m*\u001b[0m\u001b[0minput\u001b[0m\u001b[0;34m,\u001b[0m \u001b[0;34m**\u001b[0m\u001b[0mkwargs\u001b[0m\u001b[0;34m)\u001b[0m\u001b[0;34m\u001b[0m\u001b[0m\n\u001b[1;32m    488\u001b[0m         \u001b[0;32melse\u001b[0m\u001b[0;34m:\u001b[0m\u001b[0;34m\u001b[0m\u001b[0m\n\u001b[0;32m--> 489\u001b[0;31m             \u001b[0mresult\u001b[0m \u001b[0;34m=\u001b[0m \u001b[0mself\u001b[0m\u001b[0;34m.\u001b[0m\u001b[0mforward\u001b[0m\u001b[0;34m(\u001b[0m\u001b[0;34m*\u001b[0m\u001b[0minput\u001b[0m\u001b[0;34m,\u001b[0m \u001b[0;34m**\u001b[0m\u001b[0mkwargs\u001b[0m\u001b[0;34m)\u001b[0m\u001b[0;34m\u001b[0m\u001b[0m\n\u001b[0m\u001b[1;32m    490\u001b[0m         \u001b[0;32mfor\u001b[0m \u001b[0mhook\u001b[0m \u001b[0;32min\u001b[0m \u001b[0mself\u001b[0m\u001b[0;34m.\u001b[0m\u001b[0m_forward_hooks\u001b[0m\u001b[0;34m.\u001b[0m\u001b[0mvalues\u001b[0m\u001b[0;34m(\u001b[0m\u001b[0;34m)\u001b[0m\u001b[0;34m:\u001b[0m\u001b[0;34m\u001b[0m\u001b[0m\n\u001b[1;32m    491\u001b[0m             \u001b[0mhook_result\u001b[0m \u001b[0;34m=\u001b[0m \u001b[0mhook\u001b[0m\u001b[0;34m(\u001b[0m\u001b[0mself\u001b[0m\u001b[0;34m,\u001b[0m \u001b[0minput\u001b[0m\u001b[0;34m,\u001b[0m \u001b[0mresult\u001b[0m\u001b[0;34m)\u001b[0m\u001b[0;34m\u001b[0m\u001b[0m\n",
      "\u001b[0;32m~/anaconda3/lib/python3.6/site-packages/torch/nn/modules/container.py\u001b[0m in \u001b[0;36mforward\u001b[0;34m(self, input)\u001b[0m\n\u001b[1;32m     90\u001b[0m     \u001b[0;32mdef\u001b[0m \u001b[0mforward\u001b[0m\u001b[0;34m(\u001b[0m\u001b[0mself\u001b[0m\u001b[0;34m,\u001b[0m \u001b[0minput\u001b[0m\u001b[0;34m)\u001b[0m\u001b[0;34m:\u001b[0m\u001b[0;34m\u001b[0m\u001b[0m\n\u001b[1;32m     91\u001b[0m         \u001b[0;32mfor\u001b[0m \u001b[0mmodule\u001b[0m \u001b[0;32min\u001b[0m \u001b[0mself\u001b[0m\u001b[0;34m.\u001b[0m\u001b[0m_modules\u001b[0m\u001b[0;34m.\u001b[0m\u001b[0mvalues\u001b[0m\u001b[0;34m(\u001b[0m\u001b[0;34m)\u001b[0m\u001b[0;34m:\u001b[0m\u001b[0;34m\u001b[0m\u001b[0m\n\u001b[0;32m---> 92\u001b[0;31m             \u001b[0minput\u001b[0m \u001b[0;34m=\u001b[0m \u001b[0mmodule\u001b[0m\u001b[0;34m(\u001b[0m\u001b[0minput\u001b[0m\u001b[0;34m)\u001b[0m\u001b[0;34m\u001b[0m\u001b[0m\n\u001b[0m\u001b[1;32m     93\u001b[0m         \u001b[0;32mreturn\u001b[0m \u001b[0minput\u001b[0m\u001b[0;34m\u001b[0m\u001b[0m\n\u001b[1;32m     94\u001b[0m \u001b[0;34m\u001b[0m\u001b[0m\n",
      "\u001b[0;32m~/anaconda3/lib/python3.6/site-packages/torch/nn/modules/module.py\u001b[0m in \u001b[0;36m__call__\u001b[0;34m(self, *input, **kwargs)\u001b[0m\n\u001b[1;32m    487\u001b[0m             \u001b[0mresult\u001b[0m \u001b[0;34m=\u001b[0m \u001b[0mself\u001b[0m\u001b[0;34m.\u001b[0m\u001b[0m_slow_forward\u001b[0m\u001b[0;34m(\u001b[0m\u001b[0;34m*\u001b[0m\u001b[0minput\u001b[0m\u001b[0;34m,\u001b[0m \u001b[0;34m**\u001b[0m\u001b[0mkwargs\u001b[0m\u001b[0;34m)\u001b[0m\u001b[0;34m\u001b[0m\u001b[0m\n\u001b[1;32m    488\u001b[0m         \u001b[0;32melse\u001b[0m\u001b[0;34m:\u001b[0m\u001b[0;34m\u001b[0m\u001b[0m\n\u001b[0;32m--> 489\u001b[0;31m             \u001b[0mresult\u001b[0m \u001b[0;34m=\u001b[0m \u001b[0mself\u001b[0m\u001b[0;34m.\u001b[0m\u001b[0mforward\u001b[0m\u001b[0;34m(\u001b[0m\u001b[0;34m*\u001b[0m\u001b[0minput\u001b[0m\u001b[0;34m,\u001b[0m \u001b[0;34m**\u001b[0m\u001b[0mkwargs\u001b[0m\u001b[0;34m)\u001b[0m\u001b[0;34m\u001b[0m\u001b[0m\n\u001b[0m\u001b[1;32m    490\u001b[0m         \u001b[0;32mfor\u001b[0m \u001b[0mhook\u001b[0m \u001b[0;32min\u001b[0m \u001b[0mself\u001b[0m\u001b[0;34m.\u001b[0m\u001b[0m_forward_hooks\u001b[0m\u001b[0;34m.\u001b[0m\u001b[0mvalues\u001b[0m\u001b[0;34m(\u001b[0m\u001b[0;34m)\u001b[0m\u001b[0;34m:\u001b[0m\u001b[0;34m\u001b[0m\u001b[0m\n\u001b[1;32m    491\u001b[0m             \u001b[0mhook_result\u001b[0m \u001b[0;34m=\u001b[0m \u001b[0mhook\u001b[0m\u001b[0;34m(\u001b[0m\u001b[0mself\u001b[0m\u001b[0;34m,\u001b[0m \u001b[0minput\u001b[0m\u001b[0;34m,\u001b[0m \u001b[0mresult\u001b[0m\u001b[0;34m)\u001b[0m\u001b[0;34m\u001b[0m\u001b[0m\n",
      "\u001b[0;32m~/anaconda3/lib/python3.6/site-packages/torch/nn/modules/linear.py\u001b[0m in \u001b[0;36mforward\u001b[0;34m(self, input)\u001b[0m\n\u001b[1;32m     65\u001b[0m     \u001b[0;34m@\u001b[0m\u001b[0mweak_script_method\u001b[0m\u001b[0;34m\u001b[0m\u001b[0m\n\u001b[1;32m     66\u001b[0m     \u001b[0;32mdef\u001b[0m \u001b[0mforward\u001b[0m\u001b[0;34m(\u001b[0m\u001b[0mself\u001b[0m\u001b[0;34m,\u001b[0m \u001b[0minput\u001b[0m\u001b[0;34m)\u001b[0m\u001b[0;34m:\u001b[0m\u001b[0;34m\u001b[0m\u001b[0m\n\u001b[0;32m---> 67\u001b[0;31m         \u001b[0;32mreturn\u001b[0m \u001b[0mF\u001b[0m\u001b[0;34m.\u001b[0m\u001b[0mlinear\u001b[0m\u001b[0;34m(\u001b[0m\u001b[0minput\u001b[0m\u001b[0;34m,\u001b[0m \u001b[0mself\u001b[0m\u001b[0;34m.\u001b[0m\u001b[0mweight\u001b[0m\u001b[0;34m,\u001b[0m \u001b[0mself\u001b[0m\u001b[0;34m.\u001b[0m\u001b[0mbias\u001b[0m\u001b[0;34m)\u001b[0m\u001b[0;34m\u001b[0m\u001b[0m\n\u001b[0m\u001b[1;32m     68\u001b[0m \u001b[0;34m\u001b[0m\u001b[0m\n\u001b[1;32m     69\u001b[0m     \u001b[0;32mdef\u001b[0m \u001b[0mextra_repr\u001b[0m\u001b[0;34m(\u001b[0m\u001b[0mself\u001b[0m\u001b[0;34m)\u001b[0m\u001b[0;34m:\u001b[0m\u001b[0;34m\u001b[0m\u001b[0m\n",
      "\u001b[0;32m~/anaconda3/lib/python3.6/site-packages/torch/nn/functional.py\u001b[0m in \u001b[0;36mlinear\u001b[0;34m(input, weight, bias)\u001b[0m\n\u001b[1;32m   1350\u001b[0m     \u001b[0;32mif\u001b[0m \u001b[0minput\u001b[0m\u001b[0;34m.\u001b[0m\u001b[0mdim\u001b[0m\u001b[0;34m(\u001b[0m\u001b[0;34m)\u001b[0m \u001b[0;34m==\u001b[0m \u001b[0;36m2\u001b[0m \u001b[0;32mand\u001b[0m \u001b[0mbias\u001b[0m \u001b[0;32mis\u001b[0m \u001b[0;32mnot\u001b[0m \u001b[0;32mNone\u001b[0m\u001b[0;34m:\u001b[0m\u001b[0;34m\u001b[0m\u001b[0m\n\u001b[1;32m   1351\u001b[0m         \u001b[0;31m# fused op is marginally faster\u001b[0m\u001b[0;34m\u001b[0m\u001b[0;34m\u001b[0m\u001b[0m\n\u001b[0;32m-> 1352\u001b[0;31m         \u001b[0mret\u001b[0m \u001b[0;34m=\u001b[0m \u001b[0mtorch\u001b[0m\u001b[0;34m.\u001b[0m\u001b[0maddmm\u001b[0m\u001b[0;34m(\u001b[0m\u001b[0mtorch\u001b[0m\u001b[0;34m.\u001b[0m\u001b[0mjit\u001b[0m\u001b[0;34m.\u001b[0m\u001b[0m_unwrap_optional\u001b[0m\u001b[0;34m(\u001b[0m\u001b[0mbias\u001b[0m\u001b[0;34m)\u001b[0m\u001b[0;34m,\u001b[0m \u001b[0minput\u001b[0m\u001b[0;34m,\u001b[0m \u001b[0mweight\u001b[0m\u001b[0;34m.\u001b[0m\u001b[0mt\u001b[0m\u001b[0;34m(\u001b[0m\u001b[0;34m)\u001b[0m\u001b[0;34m)\u001b[0m\u001b[0;34m\u001b[0m\u001b[0m\n\u001b[0m\u001b[1;32m   1353\u001b[0m     \u001b[0;32melse\u001b[0m\u001b[0;34m:\u001b[0m\u001b[0;34m\u001b[0m\u001b[0m\n\u001b[1;32m   1354\u001b[0m         \u001b[0moutput\u001b[0m \u001b[0;34m=\u001b[0m \u001b[0minput\u001b[0m\u001b[0;34m.\u001b[0m\u001b[0mmatmul\u001b[0m\u001b[0;34m(\u001b[0m\u001b[0mweight\u001b[0m\u001b[0;34m.\u001b[0m\u001b[0mt\u001b[0m\u001b[0;34m(\u001b[0m\u001b[0;34m)\u001b[0m\u001b[0;34m)\u001b[0m\u001b[0;34m\u001b[0m\u001b[0m\n",
      "\u001b[0;31mRuntimeError\u001b[0m: size mismatch, m1: [625 x 2], m2: [20 x 49] at /opt/conda/conda-bld/pytorch_1544174967633/work/aten/src/TH/generic/THTensorMath.cpp:940"
     ]
    }
   ],
   "source": [
    "from torchvision.utils import save_image\n",
    "\n",
    "xv = np.arange(0, 1, .04)\n",
    "yv = np.arange(0, 1, .04)\n",
    "sample = np.zeros([len(yv)*len(xv), 2])\n",
    "counter = 0\n",
    "for i, j in zip(xv, yv):\n",
    "    for j in yv:\n",
    "        sample[counter] = [i, j]\n",
    "        counter += 1\n",
    "\n",
    "images = model.decode(torch.tensor(sample, dtype=torch.float)).detach().numpy()\n",
    "image = np.zeros([len(xv)*28, len(yv)*28])\n",
    "counter = 0\n",
    "for i in range(len(xv)):\n",
    "    for j in range(len(yv)):\n",
    "        image[i*28:i*28+28,j*28:j*28+28] = images[counter].reshape((28,28))\n",
    "        counter += 1\n",
    "\n",
    "plt.figure(figsize=(15, 15))\n",
    "plt.imshow(image, cmap='gray')"
   ]
  },
  {
   "cell_type": "code",
   "execution_count": 270,
   "metadata": {},
   "outputs": [
    {
     "name": "stderr",
     "output_type": "stream",
     "text": [
      "/home/tim/anaconda3/lib/python3.6/site-packages/torch/nn/modules/upsampling.py:129: UserWarning: nn.Upsample is deprecated. Use nn.functional.interpolate instead.\n",
      "  warnings.warn(\"nn.{} is deprecated. Use nn.functional.interpolate instead.\".format(self.name))\n",
      "/home/tim/anaconda3/lib/python3.6/site-packages/sklearn/neighbors/base.py:371: RuntimeWarning: invalid value encountered in sqrt\n",
      "  result = np.sqrt(dist[sample_range, neigh_ind]), neigh_ind\n"
     ]
    },
    {
     "name": "stdout",
     "output_type": "stream",
     "text": [
      "5.185129404067993\n"
     ]
    },
    {
     "data": {
      "image/png": "[encoded data removed]",
      "text/plain": [
       "<Figure size 864x864 with 1 Axes>"
      ]
     },
     "metadata": {},
     "output_type": "display_data"
    }
   ],
   "source": [
    "from sklearn.manifold import TSNE\n",
    "import time\n",
    "\n",
    "train_loader_plot = torch.utils.data.DataLoader(train_data_plot,\n",
    "                                           batch_size=1, shuffle=True, **{})\n",
    "\n",
    "z_dims = [[] for i in range(10)]\n",
    "start = time.time()\n",
    "check_digits = [1, 2, 3]\n",
    "\n",
    "for batch_idx, (data, label) in enumerate(train_loader_plot):\n",
    "    if label.item() in check_digits:\n",
    "        _, _, z = model(data, 1)\n",
    "        z_dims[label.item()].append(z.detach().numpy()[0])\n",
    "        if batch_idx >= 999:\n",
    "            break\n",
    "                        \n",
    "plt.figure(figsize=(12, 12))\n",
    "\n",
    "for i, data in enumerate(z_dims):\n",
    "    if data:\n",
    "        tsne = TSNE(n_components=2, perplexity=50, n_iter=10000, init='pca', random_state=0).fit_transform(data)\n",
    "        plt.scatter(tsne[:, 0], tsne[:, 1], label=i) \n",
    "    \n",
    "end = time.time()\n",
    "print(end-start)\n",
    "\n",
    "plt.legend(loc=1)\n",
    "plt.show()"
   ]
  }
 ],
 "metadata": {
  "celltoolbar": "Create Assignment",
  "kernelspec": {
   "display_name": "Python 3",
   "language": "python",
   "name": "python3"
  },
  "language_info": {
   "codemirror_mode": {
    "name": "ipython",
    "version": 3
   },
   "file_extension": ".py",
   "mimetype": "text/x-python",
   "name": "python",
   "nbconvert_exporter": "python",
   "pygments_lexer": "ipython3",
   "version": "3.6.5"
  }
 },
 "nbformat": 4,
 "nbformat_minor": 2
}
