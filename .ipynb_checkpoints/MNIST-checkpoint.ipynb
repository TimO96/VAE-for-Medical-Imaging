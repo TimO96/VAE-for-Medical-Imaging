{
 "cells": [
  {
   "cell_type": "code",
   "execution_count": 18,
   "metadata": {
    "nbgrader": {
     "grade": false,
     "grade_id": "cell-7c995be0fda080c0",
     "locked": true,
     "schema_version": 1,
     "solution": false
    }
   },
   "outputs": [
    {
     "name": "stdout",
     "output_type": "stream",
     "text": [
      "Populating the interactive namespace from numpy and matplotlib\n"
     ]
    }
   ],
   "source": [
    "# Imports\n",
    "\n",
    "%pylab inline\n",
    "\n",
    "import torch\n",
    "from torchvision import datasets, transforms\n",
    "from torch import nn\n",
    "from torch.nn import functional as F\n",
    "from torch.autograd import Variable\n",
    "from torchvision import datasets, transforms\n",
    "from torch import nn, optim\n",
    "from torch.distributions import Normal, Laplace, Independent, Bernoulli, Gamma, Uniform, Beta\n",
    "from torch.distributions.kl import kl_divergence"
   ]
  },
  {
   "cell_type": "code",
   "execution_count": 19,
   "metadata": {
    "scrolled": true
   },
   "outputs": [],
   "source": [
    "# Load the MNIST training and test sets\n",
    "\n",
    "def load_data(batch_size):\n",
    "    train_data = datasets.MNIST('../data', train=True, download=True,\n",
    "                       transform=transforms.ToTensor())\n",
    "    train_loader = torch.utils.data.DataLoader(train_data,\n",
    "                                               batch_size=batch_size, shuffle=True, **{})\n",
    "\n",
    "    test_data = datasets.MNIST('../data', train=False,\n",
    "                       transform=transforms.ToTensor())\n",
    "    test_loader = torch.utils.data.DataLoader(train_data,\n",
    "                                           batch_size=batch_size, shuffle=True, **{})\n",
    "    return train_data, train_loader, test_data, test_loader"
   ]
  },
  {
   "cell_type": "code",
   "execution_count": 20,
   "metadata": {
    "nbgrader": {
     "grade": false,
     "grade_id": "cell-d2d18781683f1302",
     "locked": false,
     "schema_version": 1,
     "solution": true
    }
   },
   "outputs": [],
   "source": [
    "# Distribution namespaces\n",
    "\n",
    "def normal_dist(mu, var):\n",
    "    return Normal(loc=mu, scale=var)\n",
    "\n",
    "def laplace_dist(mu, var):\n",
    "    return Laplace(loc=mu, scale=var)\n",
    "\n",
    "def gamma_dist(mu, var):\n",
    "    return Gamma(concentration=mu, rate=var)\n",
    "\n",
    "def beta_dist(mu, var):\n",
    "    return Beta(concentration1=mu, concentration0=var)\n",
    "\n",
    "def bernoulli_loss(x_hat):\n",
    "    return Bernoulli(x_hat)\n",
    "\n",
    "def laplace_loss(x_hat, scale=0.05):\n",
    "    return Laplace(loc=x_hat, scale=scale)"
   ]
  },
  {
   "cell_type": "code",
   "execution_count": 224,
   "metadata": {
    "nbgrader": {
     "grade": false,
     "grade_id": "cell-e7d9dafee18f28a1",
     "locked": true,
     "schema_version": 1,
     "solution": false
    }
   },
   "outputs": [],
   "source": [
    "class Flatten(nn.Module):\n",
    "    def forward(self, input):\n",
    "        return input.view(input.size(0), -1)\n",
    "\n",
    "\n",
    "class UnFlatten(nn.Module):\n",
    "    def forward(self, input, size=1024):\n",
    "        return input.view(input.size(0), size, 1, 1)\n",
    "\n",
    "\n",
    "class VAE(nn.Module):\n",
    "    def __init__(self, conv_encoder, linear_encoder, decoder, loss_dist, p_x_dist, q_z_dist):\n",
    "        super(VAE, self).__init__()\n",
    "        self.conv_encoder = nn.Sequential(*conv_encoder)\n",
    "        self.linear_encoder = nn.Sequential(*linear_encoder)\n",
    "        self.decoder = nn.Sequential(*decoder)\n",
    "        self.p_x_dist = p_x_dist\n",
    "        self.q_z_dist = q_z_dist\n",
    "        self.loss_dist = loss_dist\n",
    "\n",
    "    def encode(self, x):\n",
    "        # First go through the convolutional layers\n",
    "        output = self.conv_encoder(x)\n",
    "        # Flatten the output (TODO: make 4*4*50 a variable that comes from the convolutional layers)\n",
    "        output = output.view(-1, 4*4*50)\n",
    "        # Go through the linear layers\n",
    "        output = self.linear_encoder(output)\n",
    "        output_len = len(output[0]) // 2\n",
    "        return output[:,:output_len], output[:,output_len:]\n",
    "\n",
    "    def reparameterize(self, q_z):\n",
    "        return q_z.rsample()\n",
    "\n",
    "    def decode(self, z):\n",
    "        return self.decoder(z)\n",
    "\n",
    "    def forward(self, x):\n",
    "        mu, logvar = self.encode(x)\n",
    "        \n",
    "        q_z = self.q_z_dist(mu, logvar)\n",
    "        q_z = Independent(q_z, 1)\n",
    "        \n",
    "        z = self.reparameterize(q_z)\n",
    "        x_hat = self.decode(z)\n",
    "        \n",
    "        p_x = self.loss_dist(x_hat)\n",
    "        loss = self.loss_function(x_hat, x, p_x, q_z, z)\n",
    "        \n",
    "        return x_hat, loss\n",
    "    \n",
    "    def loss_function(self, x_hat, x, p_x, q_z, z):\n",
    "        x = x.view(-1, x_dim)\n",
    "        BCE = torch.sum(-p_x.log_prob(x))\n",
    "        KLD = kl_divergence(q_z.base_dist, self.p_x_dist.base_dist)\n",
    "        KLD = torch.sum(KLD.sum(len(p_x_dist.event_shape)-1))\n",
    "        \n",
    "        return BCE + KLD"
   ]
  },
  {
   "cell_type": "code",
   "execution_count": 192,
   "metadata": {
    "nbgrader": {
     "grade": false,
     "grade_id": "cell-be75f61b09f3b9b6",
     "locked": true,
     "schema_version": 1,
     "solution": false
    }
   },
   "outputs": [],
   "source": [
    "def train(epoch):\n",
    "    model.train()\n",
    "    train_loss = 0\n",
    "    for batch_idx, (data, _) in enumerate(train_loader):\n",
    "        data = Variable(data)\n",
    "        optimizer.zero_grad()\n",
    "        x_hat, loss = model(data)\n",
    "        loss.backward()\n",
    "        train_loss += loss.data\n",
    "        optimizer.step()\n",
    "        if batch_idx % 100 == 0:\n",
    "            print('Train Epoch: {} [{}/{} ({:.0f}%)]\\tLoss: {:.6f}'.format(\n",
    "                epoch, batch_idx * len(data), len(train_loader.dataset),\n",
    "                100. * batch_idx / len(train_loader),\n",
    "                loss.data / len(data)))\n",
    "\n",
    "    print('====> Epoch: {} Average loss: {:.4f}'.format(\n",
    "          epoch, train_loss / len(train_loader.dataset)))\n",
    "\n",
    "\n",
    "def test(epoch, batch_size):\n",
    "    model.eval()\n",
    "    test_loss = 0\n",
    "    with torch.no_grad():\n",
    "        for i, (data, _) in enumerate(test_loader):\n",
    "            data = data\n",
    "            x_hat, loss = model(data)\n",
    "            test_loss += loss.item()\n",
    "            if i == 0:\n",
    "                n = min(data.size(0), 8)\n",
    "                comparison = torch.cat([data[:n],\n",
    "                                      x_hat.view(batch_size, 1, 28, 28)[:n]])\n",
    "\n",
    "    test_loss /= len(test_loader.dataset)\n",
    "    print('====> Test set loss: {:.4f}'.format(test_loss))"
   ]
  },
  {
   "cell_type": "code",
   "execution_count": 220,
   "metadata": {
    "nbgrader": {
     "grade": false,
     "grade_id": "cell-d4d4408d397f6967",
     "locked": false,
     "schema_version": 1,
     "solution": true
    }
   },
   "outputs": [
    {
     "name": "stdout",
     "output_type": "stream",
     "text": [
      "Train Epoch: 1 [0/60000 (0%)]\tLoss: 543.584595\n",
      "Train Epoch: 1 [6400/60000 (11%)]\tLoss: 206.505585\n",
      "Train Epoch: 1 [12800/60000 (21%)]\tLoss: 193.248093\n",
      "Train Epoch: 1 [19200/60000 (32%)]\tLoss: 189.549728\n",
      "Train Epoch: 1 [25600/60000 (43%)]\tLoss: 204.625595\n",
      "Train Epoch: 1 [32000/60000 (53%)]\tLoss: 186.836212\n",
      "Train Epoch: 1 [38400/60000 (64%)]\tLoss: 189.931076\n",
      "Train Epoch: 1 [44800/60000 (75%)]\tLoss: 195.311981\n",
      "Train Epoch: 1 [51200/60000 (85%)]\tLoss: 187.623672\n",
      "Train Epoch: 1 [57600/60000 (96%)]\tLoss: 178.185745\n",
      "====> Epoch: 1 Average loss: 195.1288\n",
      "====> Test set loss: 174.7878\n",
      "Train Epoch: 2 [0/60000 (0%)]\tLoss: 170.289841\n",
      "Train Epoch: 2 [6400/60000 (11%)]\tLoss: 180.567459\n",
      "Train Epoch: 2 [12800/60000 (21%)]\tLoss: 168.051834\n",
      "Train Epoch: 2 [19200/60000 (32%)]\tLoss: 174.523041\n",
      "Train Epoch: 2 [25600/60000 (43%)]\tLoss: 176.992172\n",
      "Train Epoch: 2 [32000/60000 (53%)]\tLoss: 163.145538\n",
      "Train Epoch: 2 [38400/60000 (64%)]\tLoss: 158.568497\n",
      "Train Epoch: 2 [44800/60000 (75%)]\tLoss: 163.529282\n",
      "Train Epoch: 2 [51200/60000 (85%)]\tLoss: 161.777267\n",
      "Train Epoch: 2 [57600/60000 (96%)]\tLoss: 162.262421\n",
      "====> Epoch: 2 Average loss: 168.2881\n",
      "====> Test set loss: 163.5470\n",
      "Train Epoch: 3 [0/60000 (0%)]\tLoss: 159.607895\n",
      "Train Epoch: 3 [6400/60000 (11%)]\tLoss: 155.296478\n",
      "Train Epoch: 3 [12800/60000 (21%)]\tLoss: 153.887878\n",
      "Train Epoch: 3 [19200/60000 (32%)]\tLoss: 161.777985\n",
      "Train Epoch: 3 [25600/60000 (43%)]\tLoss: 161.499954\n",
      "Train Epoch: 3 [32000/60000 (53%)]\tLoss: 163.467575\n",
      "Train Epoch: 3 [38400/60000 (64%)]\tLoss: 163.154175\n",
      "Train Epoch: 3 [44800/60000 (75%)]\tLoss: 163.889740\n",
      "Train Epoch: 3 [51200/60000 (85%)]\tLoss: 157.178665\n",
      "Train Epoch: 3 [57600/60000 (96%)]\tLoss: 149.276459\n",
      "====> Epoch: 3 Average loss: 160.6673\n",
      "====> Test set loss: 158.2594\n",
      "Train Epoch: 4 [0/60000 (0%)]\tLoss: 164.779694\n",
      "Train Epoch: 4 [6400/60000 (11%)]\tLoss: 152.798553\n",
      "Train Epoch: 4 [12800/60000 (21%)]\tLoss: 157.436768\n",
      "Train Epoch: 4 [19200/60000 (32%)]\tLoss: 159.562241\n",
      "Train Epoch: 4 [25600/60000 (43%)]\tLoss: 161.001633\n",
      "Train Epoch: 4 [32000/60000 (53%)]\tLoss: 151.120300\n",
      "Train Epoch: 4 [38400/60000 (64%)]\tLoss: 149.101151\n",
      "Train Epoch: 4 [44800/60000 (75%)]\tLoss: 165.176819\n",
      "Train Epoch: 4 [51200/60000 (85%)]\tLoss: 170.499359\n",
      "Train Epoch: 4 [57600/60000 (96%)]\tLoss: 157.850220\n",
      "====> Epoch: 4 Average loss: 156.7439\n",
      "====> Test set loss: 155.9189\n",
      "Train Epoch: 5 [0/60000 (0%)]\tLoss: 159.392792\n",
      "Train Epoch: 5 [6400/60000 (11%)]\tLoss: 161.817276\n",
      "Train Epoch: 5 [12800/60000 (21%)]\tLoss: 153.272324\n",
      "Train Epoch: 5 [19200/60000 (32%)]\tLoss: 157.985184\n",
      "Train Epoch: 5 [25600/60000 (43%)]\tLoss: 161.837646\n",
      "Train Epoch: 5 [32000/60000 (53%)]\tLoss: 162.892731\n",
      "Train Epoch: 5 [38400/60000 (64%)]\tLoss: 141.320297\n",
      "Train Epoch: 5 [44800/60000 (75%)]\tLoss: 154.760529\n",
      "Train Epoch: 5 [51200/60000 (85%)]\tLoss: 145.947632\n",
      "Train Epoch: 5 [57600/60000 (96%)]\tLoss: 151.809509\n",
      "====> Epoch: 5 Average loss: 154.3693\n",
      "====> Test set loss: 153.3440\n",
      "Train Epoch: 6 [0/60000 (0%)]\tLoss: 162.855835\n",
      "Train Epoch: 6 [6400/60000 (11%)]\tLoss: 159.416992\n",
      "Train Epoch: 6 [12800/60000 (21%)]\tLoss: 157.170059\n",
      "Train Epoch: 6 [19200/60000 (32%)]\tLoss: 148.894623\n",
      "Train Epoch: 6 [25600/60000 (43%)]\tLoss: 162.471100\n",
      "Train Epoch: 6 [32000/60000 (53%)]\tLoss: 153.328339\n",
      "Train Epoch: 6 [38400/60000 (64%)]\tLoss: 148.777191\n",
      "Train Epoch: 6 [44800/60000 (75%)]\tLoss: 147.026276\n",
      "Train Epoch: 6 [51200/60000 (85%)]\tLoss: 157.989487\n",
      "Train Epoch: 6 [57600/60000 (96%)]\tLoss: 140.930756\n",
      "====> Epoch: 6 Average loss: 152.6033\n",
      "====> Test set loss: 152.0913\n",
      "Train Epoch: 7 [0/60000 (0%)]\tLoss: 146.250153\n",
      "Train Epoch: 7 [6400/60000 (11%)]\tLoss: 155.586441\n",
      "Train Epoch: 7 [12800/60000 (21%)]\tLoss: 138.319839\n",
      "Train Epoch: 7 [19200/60000 (32%)]\tLoss: 154.574570\n",
      "Train Epoch: 7 [25600/60000 (43%)]\tLoss: 147.096573\n",
      "Train Epoch: 7 [32000/60000 (53%)]\tLoss: 157.257660\n",
      "Train Epoch: 7 [38400/60000 (64%)]\tLoss: 165.258194\n",
      "Train Epoch: 7 [44800/60000 (75%)]\tLoss: 147.507126\n",
      "Train Epoch: 7 [51200/60000 (85%)]\tLoss: 154.571457\n",
      "Train Epoch: 7 [57600/60000 (96%)]\tLoss: 161.142136\n",
      "====> Epoch: 7 Average loss: 151.9611\n",
      "====> Test set loss: 150.5384\n",
      "Train Epoch: 8 [0/60000 (0%)]\tLoss: 151.556992\n",
      "Train Epoch: 8 [6400/60000 (11%)]\tLoss: 156.507294\n",
      "Train Epoch: 8 [12800/60000 (21%)]\tLoss: 149.732605\n",
      "Train Epoch: 8 [19200/60000 (32%)]\tLoss: 151.518433\n",
      "Train Epoch: 8 [25600/60000 (43%)]\tLoss: 148.149551\n",
      "Train Epoch: 8 [32000/60000 (53%)]\tLoss: 138.918015\n",
      "Train Epoch: 8 [38400/60000 (64%)]\tLoss: 153.528442\n",
      "Train Epoch: 8 [44800/60000 (75%)]\tLoss: 169.446564\n",
      "Train Epoch: 8 [51200/60000 (85%)]\tLoss: 153.735062\n",
      "Train Epoch: 8 [57600/60000 (96%)]\tLoss: 144.505173\n",
      "====> Epoch: 8 Average loss: 150.2648\n",
      "====> Test set loss: 149.1172\n",
      "Train Epoch: 9 [0/60000 (0%)]\tLoss: 148.476456\n",
      "Train Epoch: 9 [6400/60000 (11%)]\tLoss: 151.361023\n",
      "Train Epoch: 9 [12800/60000 (21%)]\tLoss: 138.669556\n",
      "Train Epoch: 9 [19200/60000 (32%)]\tLoss: 147.707245\n",
      "Train Epoch: 9 [25600/60000 (43%)]\tLoss: 145.562164\n",
      "Train Epoch: 9 [32000/60000 (53%)]\tLoss: 137.559204\n",
      "Train Epoch: 9 [38400/60000 (64%)]\tLoss: 148.278000\n",
      "Train Epoch: 9 [44800/60000 (75%)]\tLoss: 142.893097\n",
      "Train Epoch: 9 [51200/60000 (85%)]\tLoss: 153.815659\n",
      "Train Epoch: 9 [57600/60000 (96%)]\tLoss: 137.542084\n",
      "====> Epoch: 9 Average loss: 148.5501\n",
      "====> Test set loss: 147.5466\n",
      "Train Epoch: 10 [0/60000 (0%)]\tLoss: 139.826904\n",
      "Train Epoch: 10 [6400/60000 (11%)]\tLoss: 150.336151\n",
      "Train Epoch: 10 [12800/60000 (21%)]\tLoss: 152.555923\n",
      "Train Epoch: 10 [19200/60000 (32%)]\tLoss: 147.132401\n",
      "Train Epoch: 10 [25600/60000 (43%)]\tLoss: 146.017715\n",
      "Train Epoch: 10 [32000/60000 (53%)]\tLoss: 150.395554\n",
      "Train Epoch: 10 [38400/60000 (64%)]\tLoss: 147.974411\n",
      "Train Epoch: 10 [44800/60000 (75%)]\tLoss: 150.123550\n",
      "Train Epoch: 10 [51200/60000 (85%)]\tLoss: 142.158722\n",
      "Train Epoch: 10 [57600/60000 (96%)]\tLoss: 144.438324\n",
      "====> Epoch: 10 Average loss: 147.9518\n",
      "====> Test set loss: 147.0381\n",
      "Train Epoch: 11 [0/60000 (0%)]\tLoss: 138.076080\n",
      "Train Epoch: 11 [6400/60000 (11%)]\tLoss: 150.087143\n",
      "Train Epoch: 11 [12800/60000 (21%)]\tLoss: 156.828506\n",
      "Train Epoch: 11 [19200/60000 (32%)]\tLoss: 154.447968\n",
      "Train Epoch: 11 [25600/60000 (43%)]\tLoss: 144.688980\n",
      "Train Epoch: 11 [32000/60000 (53%)]\tLoss: 148.500092\n",
      "Train Epoch: 11 [38400/60000 (64%)]\tLoss: 155.578842\n",
      "Train Epoch: 11 [44800/60000 (75%)]\tLoss: 146.997818\n",
      "Train Epoch: 11 [51200/60000 (85%)]\tLoss: 146.440735\n",
      "Train Epoch: 11 [57600/60000 (96%)]\tLoss: 138.931839\n",
      "====> Epoch: 11 Average loss: 146.5328\n",
      "====> Test set loss: 146.2148\n",
      "Train Epoch: 12 [0/60000 (0%)]\tLoss: 131.498581\n",
      "Train Epoch: 12 [6400/60000 (11%)]\tLoss: 138.740692\n",
      "Train Epoch: 12 [12800/60000 (21%)]\tLoss: 139.854202\n",
      "Train Epoch: 12 [19200/60000 (32%)]\tLoss: 152.717789\n",
      "Train Epoch: 12 [25600/60000 (43%)]\tLoss: 152.617966\n",
      "Train Epoch: 12 [32000/60000 (53%)]\tLoss: 144.892365\n",
      "Train Epoch: 12 [38400/60000 (64%)]\tLoss: 136.871185\n",
      "Train Epoch: 12 [44800/60000 (75%)]\tLoss: 149.578232\n",
      "Train Epoch: 12 [51200/60000 (85%)]\tLoss: 153.654419\n",
      "Train Epoch: 12 [57600/60000 (96%)]\tLoss: 157.553391\n",
      "====> Epoch: 12 Average loss: 145.8489\n",
      "====> Test set loss: 145.4906\n",
      "Train Epoch: 13 [0/60000 (0%)]\tLoss: 160.136444\n",
      "Train Epoch: 13 [6400/60000 (11%)]\tLoss: 147.614716\n",
      "Train Epoch: 13 [12800/60000 (21%)]\tLoss: 147.533417\n",
      "Train Epoch: 13 [19200/60000 (32%)]\tLoss: 141.111145\n",
      "Train Epoch: 13 [25600/60000 (43%)]\tLoss: 149.725464\n",
      "Train Epoch: 13 [32000/60000 (53%)]\tLoss: 144.205383\n",
      "Train Epoch: 13 [38400/60000 (64%)]\tLoss: 153.702469\n",
      "Train Epoch: 13 [44800/60000 (75%)]\tLoss: 146.023987\n",
      "Train Epoch: 13 [51200/60000 (85%)]\tLoss: 149.781799\n",
      "Train Epoch: 13 [57600/60000 (96%)]\tLoss: 146.105515\n",
      "====> Epoch: 13 Average loss: 145.0489\n",
      "====> Test set loss: 144.6140\n",
      "Train Epoch: 14 [0/60000 (0%)]\tLoss: 142.231232\n",
      "Train Epoch: 14 [6400/60000 (11%)]\tLoss: 138.228699\n",
      "Train Epoch: 14 [12800/60000 (21%)]\tLoss: 147.361542\n",
      "Train Epoch: 14 [19200/60000 (32%)]\tLoss: 139.704819\n",
      "Train Epoch: 14 [25600/60000 (43%)]\tLoss: 143.062149\n",
      "Train Epoch: 14 [32000/60000 (53%)]\tLoss: 140.528351\n",
      "Train Epoch: 14 [38400/60000 (64%)]\tLoss: 161.745117\n",
      "Train Epoch: 14 [44800/60000 (75%)]\tLoss: 143.878967\n",
      "Train Epoch: 14 [51200/60000 (85%)]\tLoss: 135.617065\n",
      "Train Epoch: 14 [57600/60000 (96%)]\tLoss: 150.212570\n",
      "====> Epoch: 14 Average loss: 145.0189\n",
      "====> Test set loss: 144.9659\n",
      "Train Epoch: 15 [0/60000 (0%)]\tLoss: 139.899521\n"
     ]
    },
    {
     "name": "stdout",
     "output_type": "stream",
     "text": [
      "Train Epoch: 15 [6400/60000 (11%)]\tLoss: 145.868225\n",
      "Train Epoch: 15 [12800/60000 (21%)]\tLoss: 138.159485\n",
      "Train Epoch: 15 [19200/60000 (32%)]\tLoss: 143.764725\n",
      "Train Epoch: 15 [25600/60000 (43%)]\tLoss: 140.197357\n",
      "Train Epoch: 15 [32000/60000 (53%)]\tLoss: 141.800232\n",
      "Train Epoch: 15 [38400/60000 (64%)]\tLoss: 139.621109\n",
      "Train Epoch: 15 [44800/60000 (75%)]\tLoss: 136.911682\n",
      "Train Epoch: 15 [51200/60000 (85%)]\tLoss: 128.922546\n",
      "Train Epoch: 15 [57600/60000 (96%)]\tLoss: 141.572769\n",
      "====> Epoch: 15 Average loss: 144.2818\n",
      "====> Test set loss: 143.7547\n",
      "Train Epoch: 16 [0/60000 (0%)]\tLoss: 145.810135\n",
      "Train Epoch: 16 [6400/60000 (11%)]\tLoss: 146.538452\n",
      "Train Epoch: 16 [12800/60000 (21%)]\tLoss: 146.886887\n",
      "Train Epoch: 16 [19200/60000 (32%)]\tLoss: 136.327103\n",
      "Train Epoch: 16 [25600/60000 (43%)]\tLoss: 140.165192\n",
      "Train Epoch: 16 [32000/60000 (53%)]\tLoss: 159.167786\n",
      "Train Epoch: 16 [38400/60000 (64%)]\tLoss: 148.057709\n",
      "Train Epoch: 16 [44800/60000 (75%)]\tLoss: 144.937500\n",
      "Train Epoch: 16 [51200/60000 (85%)]\tLoss: 146.158005\n",
      "Train Epoch: 16 [57600/60000 (96%)]\tLoss: 145.363632\n",
      "====> Epoch: 16 Average loss: 143.7545\n",
      "====> Test set loss: 143.2144\n",
      "Train Epoch: 17 [0/60000 (0%)]\tLoss: 148.563263\n",
      "Train Epoch: 17 [6400/60000 (11%)]\tLoss: 145.452637\n",
      "Train Epoch: 17 [12800/60000 (21%)]\tLoss: 145.533844\n",
      "Train Epoch: 17 [19200/60000 (32%)]\tLoss: 150.609146\n",
      "Train Epoch: 17 [25600/60000 (43%)]\tLoss: 142.376953\n",
      "Train Epoch: 17 [32000/60000 (53%)]\tLoss: 157.911133\n",
      "Train Epoch: 17 [38400/60000 (64%)]\tLoss: 144.970963\n",
      "Train Epoch: 17 [44800/60000 (75%)]\tLoss: 156.518219\n",
      "Train Epoch: 17 [51200/60000 (85%)]\tLoss: 151.141830\n",
      "Train Epoch: 17 [57600/60000 (96%)]\tLoss: 153.428925\n",
      "====> Epoch: 17 Average loss: 143.5392\n",
      "====> Test set loss: 143.0378\n",
      "Train Epoch: 18 [0/60000 (0%)]\tLoss: 146.267761\n",
      "Train Epoch: 18 [6400/60000 (11%)]\tLoss: 146.028549\n",
      "Train Epoch: 18 [12800/60000 (21%)]\tLoss: 140.329758\n",
      "Train Epoch: 18 [19200/60000 (32%)]\tLoss: 147.652176\n",
      "Train Epoch: 18 [25600/60000 (43%)]\tLoss: 148.407913\n",
      "Train Epoch: 18 [32000/60000 (53%)]\tLoss: 143.246185\n",
      "Train Epoch: 18 [38400/60000 (64%)]\tLoss: 147.324341\n",
      "Train Epoch: 18 [44800/60000 (75%)]\tLoss: 131.930130\n",
      "Train Epoch: 18 [51200/60000 (85%)]\tLoss: 148.104645\n",
      "Train Epoch: 18 [57600/60000 (96%)]\tLoss: 140.119675\n",
      "====> Epoch: 18 Average loss: 147.8611\n",
      "====> Test set loss: 143.0176\n",
      "Train Epoch: 19 [0/60000 (0%)]\tLoss: 129.916550\n",
      "Train Epoch: 19 [6400/60000 (11%)]\tLoss: 149.577728\n",
      "Train Epoch: 19 [12800/60000 (21%)]\tLoss: 147.626053\n",
      "Train Epoch: 19 [19200/60000 (32%)]\tLoss: 136.426239\n",
      "Train Epoch: 19 [25600/60000 (43%)]\tLoss: 140.294876\n",
      "Train Epoch: 19 [32000/60000 (53%)]\tLoss: 147.337143\n",
      "Train Epoch: 19 [38400/60000 (64%)]\tLoss: 140.846832\n",
      "Train Epoch: 19 [44800/60000 (75%)]\tLoss: 144.395721\n",
      "Train Epoch: 19 [51200/60000 (85%)]\tLoss: 138.200577\n",
      "Train Epoch: 19 [57600/60000 (96%)]\tLoss: 151.621078\n",
      "====> Epoch: 19 Average loss: 142.9749\n",
      "====> Test set loss: 142.1448\n",
      "Train Epoch: 20 [0/60000 (0%)]\tLoss: 136.499512\n",
      "Train Epoch: 20 [6400/60000 (11%)]\tLoss: 134.860046\n",
      "Train Epoch: 20 [12800/60000 (21%)]\tLoss: 139.521469\n",
      "Train Epoch: 20 [19200/60000 (32%)]\tLoss: 133.936234\n",
      "Train Epoch: 20 [25600/60000 (43%)]\tLoss: 140.331009\n",
      "Train Epoch: 20 [32000/60000 (53%)]\tLoss: 138.989563\n",
      "Train Epoch: 20 [38400/60000 (64%)]\tLoss: 138.472321\n",
      "Train Epoch: 20 [44800/60000 (75%)]\tLoss: 148.188065\n",
      "Train Epoch: 20 [51200/60000 (85%)]\tLoss: 135.716705\n",
      "Train Epoch: 20 [57600/60000 (96%)]\tLoss: 145.109543\n",
      "====> Epoch: 20 Average loss: 142.2466\n",
      "====> Test set loss: 141.7408\n",
      "Train Epoch: 21 [0/60000 (0%)]\tLoss: 142.858002\n",
      "Train Epoch: 21 [6400/60000 (11%)]\tLoss: 142.774323\n",
      "Train Epoch: 21 [12800/60000 (21%)]\tLoss: 143.016220\n",
      "Train Epoch: 21 [19200/60000 (32%)]\tLoss: 146.677734\n",
      "Train Epoch: 21 [25600/60000 (43%)]\tLoss: 133.504456\n",
      "Train Epoch: 21 [32000/60000 (53%)]\tLoss: 138.590439\n",
      "Train Epoch: 21 [38400/60000 (64%)]\tLoss: 134.869598\n",
      "Train Epoch: 21 [44800/60000 (75%)]\tLoss: 146.391510\n",
      "Train Epoch: 21 [51200/60000 (85%)]\tLoss: 134.763718\n",
      "Train Epoch: 21 [57600/60000 (96%)]\tLoss: 143.969925\n",
      "====> Epoch: 21 Average loss: 142.2911\n",
      "====> Test set loss: 141.5493\n",
      "Train Epoch: 22 [0/60000 (0%)]\tLoss: 141.694168\n",
      "Train Epoch: 22 [6400/60000 (11%)]\tLoss: 138.232971\n",
      "Train Epoch: 22 [12800/60000 (21%)]\tLoss: 137.937134\n",
      "Train Epoch: 22 [19200/60000 (32%)]\tLoss: 142.869614\n",
      "Train Epoch: 22 [25600/60000 (43%)]\tLoss: 136.217087\n",
      "Train Epoch: 22 [32000/60000 (53%)]\tLoss: 146.230530\n",
      "Train Epoch: 22 [38400/60000 (64%)]\tLoss: 142.866699\n",
      "Train Epoch: 22 [44800/60000 (75%)]\tLoss: 138.406830\n",
      "Train Epoch: 22 [51200/60000 (85%)]\tLoss: 141.245316\n",
      "Train Epoch: 22 [57600/60000 (96%)]\tLoss: 134.811920\n",
      "====> Epoch: 22 Average loss: 141.5819\n",
      "====> Test set loss: 141.1682\n",
      "Train Epoch: 23 [0/60000 (0%)]\tLoss: 142.993408\n",
      "Train Epoch: 23 [6400/60000 (11%)]\tLoss: 133.087265\n",
      "Train Epoch: 23 [12800/60000 (21%)]\tLoss: 138.653198\n",
      "Train Epoch: 23 [19200/60000 (32%)]\tLoss: 135.433502\n",
      "Train Epoch: 23 [25600/60000 (43%)]\tLoss: 134.733978\n",
      "Train Epoch: 23 [32000/60000 (53%)]\tLoss: 141.150726\n",
      "Train Epoch: 23 [38400/60000 (64%)]\tLoss: 134.733643\n",
      "Train Epoch: 23 [44800/60000 (75%)]\tLoss: 134.409439\n",
      "Train Epoch: 23 [51200/60000 (85%)]\tLoss: 141.322006\n",
      "Train Epoch: 23 [57600/60000 (96%)]\tLoss: 139.364426\n",
      "====> Epoch: 23 Average loss: 141.3437\n",
      "====> Test set loss: 140.8297\n",
      "Train Epoch: 24 [0/60000 (0%)]\tLoss: 140.903931\n",
      "Train Epoch: 24 [6400/60000 (11%)]\tLoss: 152.865189\n",
      "Train Epoch: 24 [12800/60000 (21%)]\tLoss: 141.348068\n",
      "Train Epoch: 24 [19200/60000 (32%)]\tLoss: 145.620361\n",
      "Train Epoch: 24 [25600/60000 (43%)]\tLoss: 139.675568\n",
      "Train Epoch: 24 [32000/60000 (53%)]\tLoss: 145.895508\n",
      "Train Epoch: 24 [38400/60000 (64%)]\tLoss: 130.877243\n",
      "Train Epoch: 24 [44800/60000 (75%)]\tLoss: 136.167023\n",
      "Train Epoch: 24 [51200/60000 (85%)]\tLoss: 138.944153\n",
      "Train Epoch: 24 [57600/60000 (96%)]\tLoss: 141.024765\n",
      "====> Epoch: 24 Average loss: 141.1456\n",
      "====> Test set loss: 140.7584\n",
      "Train Epoch: 25 [0/60000 (0%)]\tLoss: 133.445251\n",
      "Train Epoch: 25 [6400/60000 (11%)]\tLoss: 138.158798\n",
      "Train Epoch: 25 [12800/60000 (21%)]\tLoss: 132.163818\n",
      "Train Epoch: 25 [19200/60000 (32%)]\tLoss: 140.925217\n",
      "Train Epoch: 25 [25600/60000 (43%)]\tLoss: 138.911774\n",
      "Train Epoch: 25 [32000/60000 (53%)]\tLoss: 135.892746\n",
      "Train Epoch: 25 [38400/60000 (64%)]\tLoss: 139.284058\n",
      "Train Epoch: 25 [44800/60000 (75%)]\tLoss: 136.668289\n",
      "Train Epoch: 25 [51200/60000 (85%)]\tLoss: 144.472092\n",
      "Train Epoch: 25 [57600/60000 (96%)]\tLoss: 152.023773\n",
      "====> Epoch: 25 Average loss: 140.8206\n",
      "====> Test set loss: 140.5587\n"
     ]
    }
   ],
   "source": [
    "x_dim = 784\n",
    "z_dim = 2\n",
    "\n",
    "lr = 1e-3 # Learning rate\n",
    "batch_size = 64\n",
    "epochs = 25\n",
    "\n",
    "\n",
    "# Prior distribution\n",
    "p_x_dist = Beta(torch.tensor([0.5, 0.5]), torch.tensor([0.5, 0.5]))\n",
    "p_x_dist = Independent(p_x_dist, 1)\n",
    "\n",
    "# Target distribution\n",
    "q_z_dist = beta_dist\n",
    "\n",
    "# Loss distribution\n",
    "loss_dist = bernoulli_loss\n",
    "\n",
    "conv_encoder_layers = [\n",
    "    nn.Conv2d(1, 20, 5, 1),\n",
    "    nn.ReLU(True),\n",
    "    nn.MaxPool2d(2, 2),\n",
    "    nn.Conv2d(20, 50, 5, 1),\n",
    "    nn.ReLU(True),\n",
    "    nn.MaxPool2d(2, 2)\n",
    "    ]\n",
    "\n",
    "linear_encoder_layers = [\n",
    "    nn.Linear(50*4*4, 392),\n",
    "    nn.ReLU(True),\n",
    "    nn.Linear(392, 196),\n",
    "    nn.ReLU(True),\n",
    "    nn.Linear(196, 49),\n",
    "    nn.ReLU(True),\n",
    "    nn.Linear(49, z_dim*2),\n",
    "    nn.Softplus()\n",
    "    ]\n",
    "\n",
    "decoder_layers = [\n",
    "    nn.Linear(z_dim, 49),\n",
    "    nn.ReLU(True),\n",
    "    nn.Linear(49, 196),\n",
    "    nn.ReLU(True),\n",
    "    nn.Linear(196, 392),\n",
    "    nn.ReLU(True),\n",
    "    nn.Linear(392, x_dim),\n",
    "    nn.Sigmoid()\n",
    "    ]\n",
    "\n",
    "# Load the MNIST data\n",
    "train_data, train_loader, test_data, test_loader = load_data(batch_size)\n",
    "\n",
    "# Create the model\n",
    "model = VAE(conv_encoder=conv_encoder_layers, linear_encoder=linear_encoder_layers,\n",
    "            decoder=decoder_layers, p_x_dist=p_x_dist, q_z_dist=q_z_dist, loss_dist=loss_dist)\n",
    "\n",
    "optimizer = optim.Adam(model.parameters(), lr=lr)\n",
    "\n",
    "if __name__ == \"__main__\":\n",
    "    for epoch in range(1, epochs + 1):\n",
    "        train(epoch)\n",
    "        test(epoch, batch_size)\n",
    "        # collection_image(epoch)        "
   ]
  },
  {
   "cell_type": "code",
   "execution_count": 223,
   "metadata": {
    "nbgrader": {
     "grade": false,
     "grade_id": "cell-df03d717307a6863",
     "locked": true,
     "schema_version": 1,
     "solution": false
    }
   },
   "outputs": [
    {
     "data": {
      "image/png": "[encoded data removed]",
      "text/plain": [
       "<Figure size 432x288 with 1 Axes>"
      ]
     },
     "metadata": {
      "needs_background": "light"
     },
     "output_type": "display_data"
    },
    {
     "data": {
      "image/png": "[encoded data removed]",
      "text/plain": [
       "<Figure size 432x288 with 1 Axes>"
      ]
     },
     "metadata": {
      "needs_background": "light"
     },
     "output_type": "display_data"
    },
    {
     "data": {
      "image/png": "[encoded data removed]",
      "text/plain": [
       "<Figure size 432x288 with 1 Axes>"
      ]
     },
     "metadata": {
      "needs_background": "light"
     },
     "output_type": "display_data"
    },
    {
     "data": {
      "image/png": "[encoded data removed]",
      "text/plain": [
       "<Figure size 432x288 with 1 Axes>"
      ]
     },
     "metadata": {
      "needs_background": "light"
     },
     "output_type": "display_data"
    },
    {
     "data": {
      "image/png": "[encoded data removed]",
      "text/plain": [
       "<Figure size 432x288 with 1 Axes>"
      ]
     },
     "metadata": {
      "needs_background": "light"
     },
     "output_type": "display_data"
    },
    {
     "data": {
      "image/png": "[encoded data removed]",
      "text/plain": [
       "<Figure size 432x288 with 1 Axes>"
      ]
     },
     "metadata": {
      "needs_background": "light"
     },
     "output_type": "display_data"
    },
    {
     "data": {
      "image/png": "[encoded data removed]",
      "text/plain": [
       "<Figure size 432x288 with 1 Axes>"
      ]
     },
     "metadata": {
      "needs_background": "light"
     },
     "output_type": "display_data"
    },
    {
     "data": {
      "image/png": "[encoded data removed]",
      "text/plain": [
       "<Figure size 432x288 with 1 Axes>"
      ]
     },
     "metadata": {
      "needs_background": "light"
     },
     "output_type": "display_data"
    },
    {
     "data": {
      "image/png": "[encoded data removed]",
      "text/plain": [
       "<Figure size 432x288 with 1 Axes>"
      ]
     },
     "metadata": {
      "needs_background": "light"
     },
     "output_type": "display_data"
    },
    {
     "data": {
      "image/png": "[encoded data removed]",
      "text/plain": [
       "<Figure size 432x288 with 1 Axes>"
      ]
     },
     "metadata": {
      "needs_background": "light"
     },
     "output_type": "display_data"
    },
    {
     "data": {
      "image/png": "[encoded data removed]",
      "text/plain": [
       "<Figure size 432x288 with 1 Axes>"
      ]
     },
     "metadata": {
      "needs_background": "light"
     },
     "output_type": "display_data"
    },
    {
     "data": {
      "image/png": "[encoded data removed]",
      "text/plain": [
       "<Figure size 432x288 with 1 Axes>"
      ]
     },
     "metadata": {
      "needs_background": "light"
     },
     "output_type": "display_data"
    },
    {
     "data": {
      "image/png": "[encoded data removed]",
      "text/plain": [
       "<Figure size 432x288 with 1 Axes>"
      ]
     },
     "metadata": {
      "needs_background": "light"
     },
     "output_type": "display_data"
    },
    {
     "data": {
      "image/png": "[encoded data removed]",
      "text/plain": [
       "<Figure size 432x288 with 1 Axes>"
      ]
     },
     "metadata": {
      "needs_background": "light"
     },
     "output_type": "display_data"
    },
    {
     "data": {
      "image/png": "[encoded data removed]",
      "text/plain": [
       "<Figure size 432x288 with 1 Axes>"
      ]
     },
     "metadata": {
      "needs_background": "light"
     },
     "output_type": "display_data"
    },
    {
     "data": {
      "image/png": "[encoded data removed]",
      "text/plain": [
       "<Figure size 432x288 with 1 Axes>"
      ]
     },
     "metadata": {
      "needs_background": "light"
     },
     "output_type": "display_data"
    },
    {
     "data": {
      "image/png": "[encoded data removed]",
      "text/plain": [
       "<Figure size 432x288 with 1 Axes>"
      ]
     },
     "metadata": {
      "needs_background": "light"
     },
     "output_type": "display_data"
    },
    {
     "data": {
      "image/png": "[encoded data removed]",
      "text/plain": [
       "<Figure size 432x288 with 1 Axes>"
      ]
     },
     "metadata": {
      "needs_background": "light"
     },
     "output_type": "display_data"
    },
    {
     "data": {
      "image/png": "[encoded data removed]",
      "text/plain": [
       "<Figure size 432x288 with 1 Axes>"
      ]
     },
     "metadata": {
      "needs_background": "light"
     },
     "output_type": "display_data"
    },
    {
     "data": {
      "image/png": "[encoded data removed]",
      "text/plain": [
       "<Figure size 432x288 with 1 Axes>"
      ]
     },
     "metadata": {
      "needs_background": "light"
     },
     "output_type": "display_data"
    },
    {
     "data": {
      "image/png": "[encoded data removed]",
      "text/plain": [
       "<Figure size 432x288 with 1 Axes>"
      ]
     },
     "metadata": {
      "needs_background": "light"
     },
     "output_type": "display_data"
    }
   ],
   "source": [
    "### Let's check if the reconstructions make sense\n",
    "# Set model to test mode\n",
    "model.eval()\n",
    "    \n",
    "# Reconstructed\n",
    "train_data_plot = datasets.MNIST('../data', train=True, download=True,\n",
    "                   transform=transforms.ToTensor())\n",
    "\n",
    "train_loader_plot = torch.utils.data.DataLoader(train_data_plot,\n",
    "                                           batch_size=1, shuffle=False, **{})\n",
    "\n",
    "for batch_idx, (data, _) in enumerate(train_loader_plot):\n",
    "    x_hat, mu = model(data)\n",
    "    plt.imshow(x_hat.view(1,28,28).squeeze().data.numpy(), cmap='gray')\n",
    "    plt.title('%i' % train_data.train_labels[batch_idx])\n",
    "    plt.show()\n",
    "    if batch_idx == 20:\n",
    "        break\n"
   ]
  },
  {
   "cell_type": "code",
   "execution_count": 149,
   "metadata": {},
   "outputs": [],
   "source": [
    "from torchvision.utils import save_image\n",
    "\n",
    "def collection_image(epoch):\n",
    "    xv = np.arange(0, 1, .04)\n",
    "    yv = np.arange(0, 1, .04)\n",
    "    sample = np.zeros([len(yv)*len(xv), 2])\n",
    "    counter = 0\n",
    "    for i, j in zip(xv, yv):\n",
    "        for j in yv:\n",
    "            sample[counter] = [i, j]\n",
    "            counter += 1\n",
    "\n",
    "    images = model.decode(torch.tensor(sample, dtype=torch.float)).detach().numpy()\n",
    "    image = np.zeros([len(xv)*28, len(yv)*28])\n",
    "    counter = 0\n",
    "    for i in range(len(xv)):\n",
    "        for j in range(len(yv)):\n",
    "            image[i*28:i*28+28,j*28:j*28+28] = images[counter].reshape((28,28))\n",
    "            counter += 1\n",
    "\n",
    "    save_image(torch.tensor(image),'personal/results/laplace/sample_norm_' + str(epoch) + '.png')"
   ]
  }
 ],
 "metadata": {
  "celltoolbar": "Create Assignment",
  "kernelspec": {
   "display_name": "Python 3",
   "language": "python",
   "name": "python3"
  },
  "language_info": {
   "codemirror_mode": {
    "name": "ipython",
    "version": 3
   },
   "file_extension": ".py",
   "mimetype": "text/x-python",
   "name": "python",
   "nbconvert_exporter": "python",
   "pygments_lexer": "ipython3",
   "version": "3.7.3"
  }
 },
 "nbformat": 4,
 "nbformat_minor": 2
}
